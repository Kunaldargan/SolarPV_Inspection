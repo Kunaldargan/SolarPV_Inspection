{
 "cells": [
  {
   "cell_type": "code",
   "execution_count": 2,
   "metadata": {
    "colab": {
     "base_uri": "https://localhost:8080/",
     "height": 190
    },
    "colab_type": "code",
    "id": "U1AliSurhHYl",
    "outputId": "0a007caa-eb3e-4445-a458-669152a82e52"
   },
   "outputs": [
    {
     "name": "stdout",
     "output_type": "stream",
     "text": [
      "Collecting opencv-contrib-python==3.4.2.16\n",
      "\u001b[?25l  Downloading https://files.pythonhosted.org/packages/08/f1/66330f4042c4fb3b2d77a159db8e8916d9cdecc29bc8c1f56bc7f8a9bec9/opencv_contrib_python-3.4.2.16-cp36-cp36m-manylinux1_x86_64.whl (30.6MB)\n",
      "\u001b[K     |████████████████████████████████| 30.6MB 1.5MB/s \n",
      "\u001b[?25hRequirement already satisfied: numpy>=1.11.3 in /usr/local/lib/python3.6/dist-packages (from opencv-contrib-python==3.4.2.16) (1.16.4)\n",
      "Installing collected packages: opencv-contrib-python\n",
      "  Found existing installation: opencv-contrib-python 3.4.3.18\n",
      "    Uninstalling opencv-contrib-python-3.4.3.18:\n",
      "      Successfully uninstalled opencv-contrib-python-3.4.3.18\n",
      "Successfully installed opencv-contrib-python-3.4.2.16\n"
     ]
    }
   ],
   "source": [
    "#!pip install opencv-contrib-python==3.4.2.16\n",
    "\n"
   ]
  },
  {
   "cell_type": "code",
   "execution_count": 2,
   "metadata": {
    "colab": {},
    "colab_type": "code",
    "id": "ipPBzfoahBu2"
   },
   "outputs": [],
   "source": [
    "import cv2"
   ]
  },
  {
   "cell_type": "code",
   "execution_count": 3,
   "metadata": {
    "colab": {},
    "colab_type": "code",
    "id": "U7ohINuchBxr"
   },
   "outputs": [
    {
     "name": "stdout",
     "output_type": "stream",
     "text": [
      "<xfeatures2d_SIFT 0x7f7c57b7e8f0>\n"
     ]
    }
   ],
   "source": [
    "#checks if SIFT is working\n",
    "sift = cv2.xfeatures2d.SIFT_create()\n",
    "print(sift)"
   ]
  },
  {
   "cell_type": "code",
   "execution_count": null,
   "metadata": {
    "colab": {
     "base_uri": "https://localhost:8080/",
     "height": 34
    },
    "colab_type": "code",
    "id": "CwWFejBfh08t",
    "outputId": "ea657d5f-2a73-48df-a2d8-170bb92516c4"
   },
   "outputs": [],
   "source": []
  },
  {
   "cell_type": "markdown",
   "metadata": {
    "colab_type": "text",
    "id": "p0xChHcNkC4T"
   },
   "source": [
    "# Program"
   ]
  },
  {
   "cell_type": "code",
   "execution_count": 4,
   "metadata": {
    "colab": {},
    "colab_type": "code",
    "id": "HDP6njcIiBOs"
   },
   "outputs": [],
   "source": [
    "import sys\n",
    "import cv2\n",
    "import numpy as np\n",
    "from matplotlib import pyplot as plt\n",
    "import matplotlib\n",
    "import json"
   ]
  },
  {
   "cell_type": "code",
   "execution_count": 5,
   "metadata": {
    "colab": {
     "base_uri": "https://localhost:8080/",
     "height": 85
    },
    "colab_type": "code",
    "id": "u8IuUJWRiBRR",
    "outputId": "790acb81-f8b8-478b-b4b9-a2ba7b54507c"
   },
   "outputs": [
    {
     "name": "stdout",
     "output_type": "stream",
     "text": [
      "/usr/bin/python3\n",
      "3.5.2 (default, Nov 12 2018, 13:43:14) \n",
      "[GCC 5.4.0 20160609]\n",
      "sys.version_info(major=3, minor=5, micro=2, releaselevel='final', serial=0)\n"
     ]
    }
   ],
   "source": [
    "import sys\n",
    "print(sys.executable)\n",
    "print(sys.version)\n",
    "print(sys.version_info)\n",
    "import glob\n",
    "import os"
   ]
  },
  {
   "cell_type": "code",
   "execution_count": 10,
   "metadata": {
    "colab": {},
    "colab_type": "code",
    "id": "BgmS-sxniBT9"
   },
   "outputs": [],
   "source": [
    "#modify function to extract result size of image and get the coordinates\n",
    "# Use the keypoints to stitch the images\n",
    "#grab image name alsso easier for writing\n",
    "def get_stitched_image(img1, img2, M, image_name, i):\n",
    "\n",
    "    # Get width and height of input images\n",
    "    w1,h1 = img1.shape[:2]\n",
    "    w2,h2 = img2.shape[:2]\n",
    "    \n",
    "    #output_path_2 = '/home/sameer/Jupyter_Notebook/Stitching/Output/'\n",
    "    #output_path_3 = '/home/sameer/Jupyter_Notebook/Stitching/Output_2/'\n",
    "    \n",
    "    # Get the canvas dimesions\n",
    "    img1_dims = np.float32([ [0,0], [0,w1], [h1, w1], [h1,0] ]).reshape(-1,1,2)\n",
    "    img2_dims_temp = np.float32([ [0,0], [0,w2], [h2, w2], [h2,0] ]).reshape(-1,1,2)\n",
    "\n",
    "\n",
    "    # Get relative perspective of second image\n",
    "    img2_dims = cv2.perspectiveTransform(img2_dims_temp, M)\n",
    "\n",
    "    # Resulting dimensions\n",
    "    result_dims = np.concatenate( (img1_dims, img2_dims), axis = 0)\n",
    "\n",
    "    # Getting images together\n",
    "    # Calculate dimensions of match points\n",
    "    [x_min, y_min] = np.int32(result_dims.min(axis=0).ravel() - 0.5)\n",
    "    [x_max, y_max] = np.int32(result_dims.max(axis=0).ravel() + 0.5)\n",
    "    \n",
    "\n",
    "    # Create output array after affine transformation \n",
    "    transform_dist = [-x_min,-y_min]\n",
    "    #show tha image \n",
    "    \n",
    "    #plt.imshow(img2)\n",
    "    transform_array = np.array([[1, 0, transform_dist[0]], \n",
    "                                [0, 1, transform_dist[1]], \n",
    "                                [0,0,1]]) \n",
    "\n",
    "    # Warp images to get the resulting image\n",
    "    result_img = cv2.warpPerspective(img2, transform_array.dot(M), \n",
    "                                    (x_max-x_min, y_max-y_min))\n",
    "    #Result_image1\n",
    "    #selective image region print \n",
    "    res1 = result_img[transform_dist[1]:w1+transform_dist[1],transform_dist[0]:h1+transform_dist[0]]\n",
    "    \n",
    "    \n",
    "    #image stitched final\n",
    "    result_img[transform_dist[1]:w1+transform_dist[1], \n",
    "                transform_dist[0]:h1+transform_dist[0]] = img1\n",
    "    \n",
    "\n",
    "\n",
    "    #extract image2 shape since it has been pasted on the canvas\n",
    "    w1,h1,_ = img2.shape\n",
    "    \n",
    "    #extract reusult image height and width for cropping\n",
    "    w2,h2,_ = result_img.shape\n",
    "    \n",
    "\n",
    "    print('Stitching Done')\n",
    "\n",
    "    \n",
    "    return result_img\n"
   ]
  },
  {
   "cell_type": "code",
   "execution_count": null,
   "metadata": {},
   "outputs": [],
   "source": []
  },
  {
   "cell_type": "code",
   "execution_count": null,
   "metadata": {},
   "outputs": [],
   "source": []
  },
  {
   "cell_type": "code",
   "execution_count": null,
   "metadata": {},
   "outputs": [],
   "source": []
  },
  {
   "cell_type": "code",
   "execution_count": null,
   "metadata": {},
   "outputs": [],
   "source": []
  },
  {
   "cell_type": "code",
   "execution_count": 9,
   "metadata": {
    "colab": {},
    "colab_type": "code",
    "id": "UbksLoAGkXBI"
   },
   "outputs": [],
   "source": [
    "\n",
    "# Find SIFT and return Homography Matrix\n",
    "def get_sift_homography(img1, img2, image_name):\n",
    "     \n",
    "    sift = cv2.xfeatures2d.SIFT_create()\n",
    "\n",
    "    # Extract keypoints and descriptors\n",
    "    k1, d1 = sift.detectAndCompute(img1, None)\n",
    "    k2, d2 = sift.detectAndCompute(img2, None)\n",
    "    if ( d1 is None or d2 is None):\n",
    "      print('Images are different')\n",
    "      print('Set of images from _ to ', image_name)\n",
    "      \n",
    "    else:\n",
    "\n",
    "      FLANN_INDEX_KDTREE = 0\n",
    "      index_params = dict(algorithm = FLANN_INDEX_KDTREE, trees = 5)\n",
    "      search_params = dict(checks=50)   # or pass empty dictionary\n",
    "\n",
    "      flann = cv2.FlannBasedMatcher(index_params,search_params)\n",
    "\n",
    "      matches = flann.knnMatch(d1,d2,k=2)\n",
    "\n",
    "\n",
    "      # Make sure that the matches are good\n",
    "      verify_ratio = 0.6 # Source: stackoverflow\n",
    "      verified_matches = []\n",
    "      for m1,m2 in matches:\n",
    "          # Add to array only if it's a good match\n",
    "          if m1.distance < 1.1 * m2.distance:\n",
    "              verified_matches.append(m1)\n",
    "\n",
    "      # Mimnum number of matches\n",
    "      min_matches = 9\n",
    "      if len(verified_matches) > min_matches:\n",
    "\n",
    "          # Array to store matching points\n",
    "          img1_pts = []\n",
    "          img2_pts = []\n",
    "\n",
    "          # Add matching points to array\n",
    "          for match in verified_matches:\n",
    "              img1_pts.append(k1[match.queryIdx].pt)\n",
    "              img2_pts.append(k2[match.trainIdx].pt)\n",
    "          img1_pts = np.float32(img1_pts).reshape(-1,1,2)\n",
    "          img2_pts = np.float32(img2_pts).reshape(-1,1,2)\n",
    "\n",
    "          # Compute homography matrix\n",
    "          M, mask = cv2.findHomography(img1_pts, img2_pts, cv2.RANSAC, 5.0)\n",
    "          return M\n",
    "      else:\n",
    "        print ('Error: Not enough matches')\n"
   ]
  },
  {
   "cell_type": "code",
   "execution_count": 12,
   "metadata": {
    "colab": {},
    "colab_type": "code",
    "id": "u0gHy_ojkXDz"
   },
   "outputs": [],
   "source": [
    "\n",
    "# Equalize Histogram of Color Images\n",
    "def equalize_histogram_color(img):\n",
    "    img_yuv = cv2.cvtColor(img, cv2.COLOR_BGR2YUV)\n",
    "    img_yuv[:,:,0] = cv2.equalizeHist(img_yuv[:,:,0])\n",
    "    img = cv2.cvtColor(img_yuv, cv2.COLOR_YUV2BGR)\n",
    "    return img\n"
   ]
  },
  {
   "cell_type": "code",
   "execution_count": null,
   "metadata": {
    "colab": {
     "base_uri": "https://localhost:8080/",
     "height": 402
    },
    "colab_type": "code",
    "id": "Dy-9yxtckujt",
    "outputId": "5fbbb5e7-1714-4ca0-ec73-14a4f6902cb2"
   },
   "outputs": [],
   "source": []
  },
  {
   "cell_type": "code",
   "execution_count": 20,
   "metadata": {},
   "outputs": [
    {
     "name": "stdout",
     "output_type": "stream",
     "text": [
      "Stitching Done\n",
      "{'Start': 0, 'Image_1': 'dataset_4_ATI_20170724-172652.38.jpg', 'End': 480, 'Image_2': 'dataset_4_ATI_20170724-172657.47.jpg'}\n",
      "Stitching Done\n",
      "{'Start': 480, 'Image_1': 'dataset_4_ATI_20170724-172657.47.jpg', 'End': 615, 'Image_2': 'dataset_4_ATI_20170724-172658.34.jpg'}\n",
      "Stitching Done\n",
      "{'Start': 615, 'Image_1': 'dataset_4_ATI_20170724-172658.34.jpg', 'End': 749, 'Image_2': 'dataset_4_ATI_20170724-172659.24.jpg'}\n",
      "Stitching Done\n",
      "{'Start': 749, 'Image_1': 'dataset_4_ATI_20170724-172659.24.jpg', 'End': 883, 'Image_2': 'dataset_4_ATI_20170724-172700.17.jpg'}\n",
      "Stitching Done\n",
      "{'Start': 883, 'Image_1': 'dataset_4_ATI_20170724-172700.17.jpg', 'End': 1015, 'Image_2': 'dataset_4_ATI_20170724-172701.10.jpg'}\n",
      "Stitching Done\n",
      "{'Start': 1015, 'Image_1': 'dataset_4_ATI_20170724-172701.10.jpg', 'End': 1113, 'Image_2': 'dataset_4_ATI_20170724-172702.1.jpg'}\n",
      "Stitching Done\n",
      "{'Start': 1113, 'Image_1': 'dataset_4_ATI_20170724-172702.1.jpg', 'End': 1274, 'Image_2': 'dataset_4_ATI_20170724-172702.95.jpg'}\n"
     ]
    }
   ],
   "source": [
    "#resize images before sending \n",
    "#res 640 x 480\n",
    "path = '/home/sameer/Jupyter_Notebook/Demo_6_6/Images/'\n",
    "cv_img = []\n",
    "img_name_list = []\n",
    "from skimage import exposure\n",
    "\n",
    "#pick images from directory and add to a array. Extract filename from directory and add them to a list\n",
    "\n",
    "#files = [item for sublist in [glob.glob(path + ext) for ext in [\"/*.jpg\", \"/*.JPG\", \"/*.png\", \"/*.PNG\"]] for item in sublist]\n",
    "\n",
    "#print(files)\n",
    "output_path = '/home/sameer/Jupyter_Notebook/Demo_6_6/Stitched/'\n",
    "\n",
    "dict_1 = {}\n",
    " \n",
    "for img in sorted(os.listdir(path)):\n",
    "    if  img.endswith('jpg'):\n",
    "        img= os.path.join(path,img)\n",
    "\n",
    "        n= cv2.imread(img)\n",
    "        cv_img.append(n)\n",
    "        img_name_list.append(os.path.basename(img))\n",
    "        #print(os.path.basename(img))\n",
    "\n",
    "    \n",
    "img1 = cv_img[0]\n",
    "img1 = exposure.adjust_gamma(img1, 1.2)\n",
    "previous_height = 0\n",
    "for i in range(1,len(cv_img)):\n",
    "    \n",
    "    dict_stitch = {}\n",
    "    img2 = cv_img[i]\n",
    "    img2 = exposure.adjust_gamma(img2, 1.2)\n",
    "    image_name = img_name_list[i]\n",
    "    \n",
    "    #skip histogram equal\n",
    "    #img1 = equalize_histogram_color(img1)\n",
    "    #img2 = equalize_histogram_color(img2)\n",
    "    # Use SIFT to find keypoints and return homography matrix\n",
    "    M =  get_sift_homography(img1, img2,image_name)\n",
    "    \n",
    "    \n",
    "    \n",
    "      # Stitch the images together using homography matrix\n",
    "    result_image = get_stitched_image(img2, img1, M, image_name, i)\n",
    "    w,h, _ = result_image.shape\n",
    "    #json \n",
    "    stitch_name = 'Stitch' + str(i)\n",
    "    dict_1[stitch_name]= dict_stitch\n",
    "    \n",
    "    dict_stitch['Image_1'] = img_name_list[i-1]\n",
    "    dict_stitch['Image_2'] = img_name_list[i]\n",
    "    dict_stitch['Start'] = previous_height\n",
    "    dict_stitch['End'] = w\n",
    "\n",
    "\n",
    "    print(dict_stitch)\n",
    "    \n",
    "    previous_height = w\n",
    "    \n",
    "    #get resulted image and save it to out file \n",
    "    \n",
    "    output_file = os.path.join(output_path,str(i))\n",
    "    cv2.imwrite(output_file + '.jpg', result_image)\n",
    "    img1=result_image\n",
    "    \n",
    "    \n",
    "    \n",
    "    \n",
    "#write dict to json file \n",
    "\n",
    "output_file = os.path.join(output_path, 'Stitch_Coordinates.json')\n",
    "with open(output_file, 'w') as f:\n",
    "            \n",
    "#    json.dump(x,f)\n",
    "    json.dump(dict_1,f, indent=4, sort_keys = True)\n",
    "    \n",
    "    \n",
    "    \n",
    "    \n",
    "    \n",
    "    \n",
    "    \n",
    "    \n",
    "    \n",
    "    \n",
    "    \n",
    "    \n",
    "    \n",
    "    "
   ]
  },
  {
   "cell_type": "code",
   "execution_count": 26,
   "metadata": {},
   "outputs": [
    {
     "data": {
      "text/plain": [
       "(1038, 1205, 3)"
      ]
     },
     "execution_count": 26,
     "metadata": {},
     "output_type": "execute_result"
    }
   ],
   "source": [
    "#coordinates start from left top so mnus filan image minuthe coordinates\n",
    "result_image.shape"
   ]
  },
  {
   "cell_type": "code",
   "execution_count": 27,
   "metadata": {},
   "outputs": [],
   "source": [
    "img = cv2.imread('/home/sameer/Jupyter_Notebook/Stitching/data3/Output_Stitched/11.jpg')"
   ]
  },
  {
   "cell_type": "code",
   "execution_count": 28,
   "metadata": {},
   "outputs": [
    {
     "data": {
      "text/plain": [
       "(1546, 757, 3)"
      ]
     },
     "execution_count": 28,
     "metadata": {},
     "output_type": "execute_result"
    }
   ],
   "source": [
    "img.shape"
   ]
  },
  {
   "cell_type": "code",
   "execution_count": 30,
   "metadata": {},
   "outputs": [
    {
     "name": "stdout",
     "output_type": "stream",
     "text": [
      "938\n"
     ]
    }
   ],
   "source": [
    "x = 1546 - 608\n",
    "print(x)"
   ]
  },
  {
   "cell_type": "code",
   "execution_count": 37,
   "metadata": {},
   "outputs": [],
   "source": [
    "img_crop = img[938:1546, 0:757]"
   ]
  },
  {
   "cell_type": "code",
   "execution_count": null,
   "metadata": {},
   "outputs": [],
   "source": []
  },
  {
   "cell_type": "code",
   "execution_count": 23,
   "metadata": {},
   "outputs": [],
   "source": [
    "img_crop= result_image[0:1205, 0:608]"
   ]
  },
  {
   "cell_type": "code",
   "execution_count": 24,
   "metadata": {},
   "outputs": [],
   "source": [
    "from matplotlib import pyplot as plt"
   ]
  },
  {
   "cell_type": "code",
   "execution_count": 38,
   "metadata": {},
   "outputs": [
    {
     "data": {
      "text/plain": [
       "<matplotlib.image.AxesImage at 0x7f7b240cf780>"
      ]
     },
     "execution_count": 38,
     "metadata": {},
     "output_type": "execute_result"
    },
    {
     "data": {
      "image/png": "[encoded data removed]",
      "text/plain": [
       "<Figure size 432x288 with 1 Axes>"
      ]
     },
     "metadata": {
      "needs_background": "light"
     },
     "output_type": "display_data"
    }
   ],
   "source": [
    "plt.imshow(img_crop)"
   ]
  },
  {
   "cell_type": "code",
   "execution_count": null,
   "metadata": {},
   "outputs": [],
   "source": []
  },
  {
   "cell_type": "code",
   "execution_count": null,
   "metadata": {},
   "outputs": [],
   "source": []
  },
  {
   "cell_type": "markdown",
   "metadata": {
    "colab": {},
    "colab_type": "code",
    "id": "igK9yXNTkXJe"
   },
   "source": [
    "# Scrtachpad"
   ]
  },
  {
   "cell_type": "code",
   "execution_count": null,
   "metadata": {},
   "outputs": [],
   "source": [
    "#Now save all to json"
   ]
  },
  {
   "cell_type": "code",
   "execution_count": 62,
   "metadata": {},
   "outputs": [],
   "source": [
    "stitch_name = 'Stitch' + str(i)"
   ]
  },
  {
   "cell_type": "code",
   "execution_count": 63,
   "metadata": {},
   "outputs": [
    {
     "data": {
      "text/plain": [
       "'Stitch6'"
      ]
     },
     "execution_count": 63,
     "metadata": {},
     "output_type": "execute_result"
    }
   ],
   "source": [
    "stitch_name"
   ]
  },
  {
   "cell_type": "code",
   "execution_count": null,
   "metadata": {},
   "outputs": [],
   "source": []
  },
  {
   "cell_type": "code",
   "execution_count": 70,
   "metadata": {},
   "outputs": [],
   "source": [
    "dict_1 = {}\n",
    "\n"
   ]
  },
  {
   "cell_type": "code",
   "execution_count": 68,
   "metadata": {},
   "outputs": [],
   "source": [
    "stitch_name = 'Stitch' + str(i)\n",
    "dict_1[stitch_name]= dict_stitch\n",
    "dict_stitch['Image_1'] = img_name_list[i-1]\n",
    "dict_stitch['Image_2'] = img_name_list[i]\n",
    "dict_stitch['Start'] = previous_height\n",
    "dict_stitch['End'] = w\n",
    "\n",
    "\n"
   ]
  },
  {
   "cell_type": "code",
   "execution_count": 69,
   "metadata": {},
   "outputs": [
    {
     "data": {
      "text/plain": [
       "{'Stitch6': {'End': 1321,\n",
       "  'Image_1': '126.jpg',\n",
       "  'Image_2': '128.jpg',\n",
       "  'Start': 1321}}"
      ]
     },
     "execution_count": 69,
     "metadata": {},
     "output_type": "execute_result"
    }
   ],
   "source": [
    "dict_1"
   ]
  },
  {
   "cell_type": "code",
   "execution_count": 42,
   "metadata": {},
   "outputs": [],
   "source": [
    "w1,h1 = img1.shape[:2]\n",
    "w2,h2 = img2.shape[:2]"
   ]
  },
  {
   "cell_type": "code",
   "execution_count": 43,
   "metadata": {},
   "outputs": [],
   "source": [
    "img1_dims = np.float32([ [0,0], [0,w1], [h1, w1], [h1,0] ]).reshape(-1,1,2)"
   ]
  },
  {
   "cell_type": "code",
   "execution_count": 45,
   "metadata": {},
   "outputs": [],
   "source": [
    "result_dims = np.concatenate( (img1_dims, img1_dims), axis = 0)"
   ]
  },
  {
   "cell_type": "code",
   "execution_count": 47,
   "metadata": {},
   "outputs": [
    {
     "data": {
      "text/plain": [
       "array([[[   0.,    0.]],\n",
       "\n",
       "       [[   0., 1038.]],\n",
       "\n",
       "       [[1205., 1038.]],\n",
       "\n",
       "       [[1205.,    0.]],\n",
       "\n",
       "       [[   0.,    0.]],\n",
       "\n",
       "       [[   0., 1038.]],\n",
       "\n",
       "       [[1205., 1038.]],\n",
       "\n",
       "       [[1205.,    0.]]], dtype=float32)"
      ]
     },
     "execution_count": 47,
     "metadata": {},
     "output_type": "execute_result"
    }
   ],
   "source": []
  },
  {
   "cell_type": "code",
   "execution_count": null,
   "metadata": {},
   "outputs": [],
   "source": []
  },
  {
   "cell_type": "code",
   "execution_count": null,
   "metadata": {},
   "outputs": [],
   "source": []
  },
  {
   "cell_type": "code",
   "execution_count": null,
   "metadata": {},
   "outputs": [],
   "source": []
  },
  {
   "cell_type": "code",
   "execution_count": 83,
   "metadata": {},
   "outputs": [
    {
     "name": "stdout",
     "output_type": "stream",
     "text": [
      "Done\n",
      "Stitched number 1\n",
      "Image_names 121.jpg and 122.jpg\n",
      "Start position 0\n",
      "End Position 620\n",
      "{'Image_1': '121.jpg', 'Image_2': '122.jpg', 'Start': 0, 'End': 620}\n",
      "\n",
      "\n",
      "Done\n",
      "Stitched number 2\n",
      "Image_names 122.jpg and 123.jpg\n",
      "Start position 620\n",
      "End Position 763\n",
      "{'Image_1': '122.jpg', 'Image_2': '123.jpg', 'Start': 620, 'End': 763}\n",
      "\n",
      "\n",
      "Done\n",
      "Stitched number 3\n",
      "Image_names 123.jpg and 124.jpg\n",
      "Start position 763\n",
      "End Position 903\n",
      "{'Image_1': '123.jpg', 'Image_2': '124.jpg', 'Start': 763, 'End': 903}\n",
      "\n",
      "\n",
      "Done\n",
      "Stitched number 4\n",
      "Image_names 124.jpg and 125.jpg\n",
      "Start position 903\n",
      "End Position 1013\n",
      "{'Image_1': '124.jpg', 'Image_2': '125.jpg', 'Start': 903, 'End': 1013}\n",
      "\n",
      "\n",
      "Done\n",
      "Stitched number 5\n",
      "Image_names 125.jpg and 126.jpg\n",
      "Start position 1013\n",
      "End Position 1181\n",
      "{'Image_1': '125.jpg', 'Image_2': '126.jpg', 'Start': 1013, 'End': 1181}\n",
      "\n",
      "\n",
      "Done\n",
      "Stitched number 6\n",
      "Image_names 126.jpg and 128.jpg\n",
      "Start position 1181\n",
      "End Position 1321\n",
      "{'Image_1': '126.jpg', 'Image_2': '128.jpg', 'Start': 1181, 'End': 1321}\n",
      "\n",
      "\n"
     ]
    }
   ],
   "source": [
    "#resize images before sending \n",
    "#res 640 x 480\n",
    "path = '/home/sameer/Jupyter_Notebook/Stitching/data2/input/'\n",
    "cv_img = []\n",
    "img_name_list = []\n",
    "\n",
    "#pick images from directory and add to a array. Extract filename from directory and add them to a list\n",
    "\n",
    "#files = [item for sublist in [glob.glob(path + ext) for ext in [\"/*.jpg\", \"/*.JPG\", \"/*.png\", \"/*.PNG\"]] for item in sublist]\n",
    "\n",
    "#print(files)\n",
    "\n",
    "dict_1 = {}\n",
    " \n",
    "for img in sorted(os.listdir(path)):\n",
    "    if  img.endswith('jpg'):\n",
    "        img= os.path.join(path,img)\n",
    "\n",
    "        n= cv2.imread(img)\n",
    "        cv_img.append(n)\n",
    "        img_name_list.append(os.path.basename(img))\n",
    "        #print(os.path.basename(img))\n",
    "\n",
    "    \n",
    "img1 = cv_img[0]\n",
    "previous_height = 0\n",
    "for i in range(1,len(cv_img)):\n",
    "    \n",
    "    dict_stitch = {}\n",
    "    img2 = cv_img[i]\n",
    "    \n",
    "    image_name = img_name_list[i]\n",
    "    \n",
    "    #skip histogram equal\n",
    "    #img1 = equalize_histogram_color(img1)\n",
    "    #img2 = equalize_histogram_color(img2)\n",
    "    # Use SIFT to find keypoints and return homography matrix\n",
    "    M =  get_sift_homography(img1, img2,image_name)\n",
    "    \n",
    "    \n",
    "    \n",
    "      # Stitch the images together using homography matrix\n",
    "    result_image = get_stitched_image(img2, img1, M, image_name, i)\n",
    "    w,h, _ = result_image.shape\n",
    "    \n",
    "    print('Stitched number' , i)\n",
    "    print('Image_names' , img_name_list[i-1],'and', img_name_list[i])\n",
    "    if(not(previous_height > w)):\n",
    "        \n",
    "        print('Start position', previous_height)\n",
    "        print('End Position', w)\n",
    "    else:\n",
    "        print('Images are not stitching in order')\n",
    "        print('Start position', previous_height)\n",
    "        print('End Position', w)\n",
    "        print('---------------------Ignore below----------------------------')\n",
    "    #print('Height',w)\n",
    "    #json \n",
    "    stitch_name = 'Stitch' + str(i)\n",
    "    dict_1[stitch_name]= dict_stitch\n",
    "    \n",
    "    dict_stitch['Image_1'] = img_name_list[i-1]\n",
    "    dict_stitch['Image_2'] = img_name_list[i]\n",
    "    dict_stitch['Start'] = previous_height\n",
    "    dict_stitch['End'] = w\n",
    "\n",
    "\n",
    "    print(dict_stitch)\n",
    "    \n",
    "    previous_height = w\n",
    "    \n",
    "    #get resulted image and save it to out file \n",
    "    output_path = '/home/sameer/Jupyter_Notebook/Stitching/data2/Output_Stitched/'\n",
    "    output_file = os.path.join(output_path,str(i))\n",
    "    cv2.imwrite(output_file + '.jpg', result_image)\n",
    "    print('\\n')\n",
    "    img1=result_image\n",
    "    \n",
    "    \n",
    "    \n",
    "    \n",
    "#write dict to json file \n",
    "\n",
    "output_file = os.path.join(output_path, 'Stitch_Coordinates.json')\n",
    "with open(output_file, 'w') as f:\n",
    "            \n",
    "#    json.dump(x,f)\n",
    "    json.dump(dict_1,f, indent=4, sort_keys = True)\n",
    "    \n",
    "    \n",
    "    \n",
    "    \n",
    "    \n",
    "    \n",
    "    \n",
    "    \n",
    "    \n",
    "    \n",
    "    \n",
    "    \n",
    "    \n",
    "    "
   ]
  },
  {
   "cell_type": "code",
   "execution_count": 80,
   "metadata": {},
   "outputs": [],
   "source": [
    "output_file = os.path.join(output_path, 'Stitch_Coordinates.json')"
   ]
  },
  {
   "cell_type": "code",
   "execution_count": 81,
   "metadata": {},
   "outputs": [
    {
     "data": {
      "text/plain": [
       "'/home/sameer/Jupyter_Notebook/Stitching/data2/Output_Stitched/Stitch_Coordinates.json'"
      ]
     },
     "execution_count": 81,
     "metadata": {},
     "output_type": "execute_result"
    }
   ],
   "source": [
    "output_file"
   ]
  },
  {
   "cell_type": "code",
   "execution_count": null,
   "metadata": {},
   "outputs": [],
   "source": []
  },
  {
   "cell_type": "code",
   "execution_count": null,
   "metadata": {},
   "outputs": [],
   "source": []
  },
  {
   "cell_type": "code",
   "execution_count": null,
   "metadata": {},
   "outputs": [],
   "source": []
  },
  {
   "cell_type": "code",
   "execution_count": 31,
   "metadata": {
    "colab": {},
    "colab_type": "code",
    "id": "4Pudpr7vg4Cj"
   },
   "outputs": [
    {
     "data": {
      "text/plain": [
       "\"i=imutils.resize(cv_img[0], width=1920)\\nimg1= i\\nfor i in range(1,10):\\n\\n    \\n    img2 = imutils.resize(cv_img[i], width=1920)\\n\\n\\n    img1 = equalize_histogram_color(img1)\\n    img2 = equalize_histogram_color(img2)\\n\\n    # Show input images\\n    #input_images = np.hstack( (img1, img2) )\\n    #cv2.imshow ('Input Images', input_images)\\n\\n    # Use SIFT to find keypoints and return homography matrix\\n    M =  get_sift_homography(img1, img2)\\n\\n    # Stitch the images together using homography matrix\\n    result_image = get_stitched_image(img2, img1, M)\\n\\n    # Write the result to the same directory\\n    #\\tresult_image_name = 'results/result_'+sys.argv[1]\\n    cv2.imwrite(str(i) + 'output.jpg',result_image)\\n    resultimage = imutils.resize(resultimage, width=1920)\\n    img1=result_image\\n\""
      ]
     },
     "execution_count": 31,
     "metadata": {},
     "output_type": "execute_result"
    }
   ],
   "source": [
    "'''i=imutils.resize(cv_img[0], width=1920)\n",
    "img1= i\n",
    "for i in range(1,10):\n",
    "\n",
    "    \n",
    "    img2 = imutils.resize(cv_img[i], width=1920)\n",
    "\n",
    "\n",
    "    img1 = equalize_histogram_color(img1)\n",
    "    img2 = equalize_histogram_color(img2)\n",
    "\n",
    "    # Show input images\n",
    "    #input_images = np.hstack( (img1, img2) )\n",
    "    #cv2.imshow ('Input Images', input_images)\n",
    "\n",
    "    # Use SIFT to find keypoints and return homography matrix\n",
    "    M =  get_sift_homography(img1, img2)\n",
    "\n",
    "    # Stitch the images together using homography matrix\n",
    "    result_image = get_stitched_image(img2, img1, M)\n",
    "\n",
    "    # Write the result to the same directory\n",
    "    #\tresult_image_name = 'results/result_'+sys.argv[1]\n",
    "    cv2.imwrite(str(i) + 'output.jpg',result_image)\n",
    "    resultimage = imutils.resize(resultimage, width=1920)\n",
    "    img1=result_image\n",
    "''' "
   ]
  },
  {
   "cell_type": "code",
   "execution_count": 45,
   "metadata": {
    "colab": {},
    "colab_type": "code",
    "id": "c4HkpcQJg4E_"
   },
   "outputs": [
    {
     "name": "stdout",
     "output_type": "stream",
     "text": [
      "Done\n",
      "Stitched number 1\n",
      "Image_names dataset_4_ATI_20170724-172508.68.jpg and dataset_4_ATI_20170724-172509.60.jpg\n",
      "Start position 0\n",
      "End Position 618\n",
      "\n",
      "\n",
      "Done\n",
      "Stitched number 2\n",
      "Image_names dataset_4_ATI_20170724-172509.60.jpg and dataset_4_ATI_20170724-172511.36.jpg\n",
      "Start position 618\n",
      "End Position 892\n",
      "\n",
      "\n"
     ]
    }
   ],
   "source": [
    "#resize images before sending \n",
    "#res 640 x 480\n",
    "path = '/home/sameer/Jupyter_Notebook/Stitching/input/'\n",
    "cv_img = []\n",
    "img_name_list = []\n",
    "\n",
    "#pick images from directory and add to a array. Extract filename from directory and add them to a list\n",
    "\n",
    "#files = [item for sublist in [glob.glob(path + ext) for ext in [\"/*.jpg\", \"/*.JPG\", \"/*.png\", \"/*.PNG\"]] for item in sublist]\n",
    "\n",
    "#print(files)\n",
    "\n",
    "\n",
    " \n",
    "for img in sorted(os.listdir(path)):\n",
    "    if  img.endswith('jpg'):\n",
    "        img= os.path.join(path,img)\n",
    "\n",
    "        n= cv2.imread(img)\n",
    "        cv_img.append(n)\n",
    "        img_name_list.append(os.path.basename(img))\n",
    "        #print(os.path.basename(img))\n",
    "\n",
    "    \n",
    "img1 = cv_img[0]\n",
    "previous_height = 0\n",
    "for i in range(1,len(cv_img)):\n",
    "    \n",
    "    \n",
    "    img2 = cv_img[i]\n",
    "    \n",
    "    \n",
    "    # Use SIFT to find keypoints and return homography matrix\n",
    "    M =  get_sift_homography(img1, img2,image_name)\n",
    "    image_name = img_name_list[i]\n",
    "    \n",
    "    \n",
    "      # Stitch the images together using homography matrix\n",
    "    result_image = get_stitched_image(img2, img1, M, image_name, i)\n",
    "    w,h, _ = result_image.shape\n",
    "    \n",
    "    print('Stitched number' , i)\n",
    "    print('Image_names' , img_name_list[i-1],'and', img_name_list[i])\n",
    "    print('Start position', previous_height)\n",
    "    print('End Position', w)\n",
    "    #print('Height',w)\n",
    "    \n",
    "    previous_height = w\n",
    "    \n",
    "    #get resulted image and save it to out file \n",
    "    output_path = '/home/sameer/Jupyter_Notebook/Stitching/Output_Stitched/'\n",
    "    output_file = os.path.join(output_path,str(i))\n",
    "    cv2.imwrite(output_file + '.jpg', result_image)\n",
    "    print('\\n')\n",
    "    \n",
    "    \n",
    "    \n",
    "    \n",
    "    \n",
    "    \n",
    "    \n",
    "    \n",
    "    \n",
    "    \n",
    "    \n",
    "    \n",
    "    \n",
    "    \n",
    "    \n",
    "    \n",
    "    \n",
    "    \n",
    "    "
   ]
  },
  {
   "cell_type": "code",
   "execution_count": 12,
   "metadata": {
    "colab": {},
    "colab_type": "code",
    "id": "cSuFONWfg396"
   },
   "outputs": [],
   "source": [
    "list1 = []\n",
    "list1 = [0,0,157,271,402,538,674,813,943,1073,1208,1336,1474]\n",
    "\n",
    "\n"
   ]
  },
  {
   "cell_type": "code",
   "execution_count": 17,
   "metadata": {},
   "outputs": [
    {
     "name": "stdout",
     "output_type": "stream",
     "text": [
      "0\n",
      "0\n",
      "157\n",
      "271\n",
      "402\n",
      "538\n",
      "674\n",
      "813\n",
      "943\n",
      "1073\n",
      "1208\n",
      "1336\n",
      "1474\n"
     ]
    }
   ],
   "source": [
    "for i in range (0,len(list1)):\n",
    "    print(list1[i])"
   ]
  },
  {
   "cell_type": "code",
   "execution_count": null,
   "metadata": {},
   "outputs": [],
   "source": []
  },
  {
   "cell_type": "code",
   "execution_count": null,
   "metadata": {},
   "outputs": [],
   "source": []
  }
 ],
 "metadata": {
  "accelerator": "GPU",
  "colab": {
   "name": "Copy of Google_Colab_Overlap _Extract.ipynb",
   "provenance": [],
   "toc_visible": true,
   "version": "0.3.2"
  },
  "kernelspec": {
   "display_name": "Python 3",
   "language": "python",
   "name": "python3"
  },
  "language_info": {
   "codemirror_mode": {
    "name": "ipython",
    "version": 3
   },
   "file_extension": ".py",
   "mimetype": "text/x-python",
   "name": "python",
   "nbconvert_exporter": "python",
   "pygments_lexer": "ipython3",
   "version": "3.5.2"
  }
 },
 "nbformat": 4,
 "nbformat_minor": 1
}
